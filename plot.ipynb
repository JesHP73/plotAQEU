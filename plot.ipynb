import plotly.express as px
import pandas as pd

# Load your data
# Read the CSV file directly from the GitHub URL
url = 'https://raw.githubusercontent.com/JesHP73/plotAQEU/78dd92e3c98710a024cb332c6b753fd99aceac64/plot_aqi_df.csv'
plot_aqi_df = pd.read_csv(url)


# Calculate the mean AQI per year for each country
mean_aqi_per_country = plot_aqi_df.groupby(['year', 'country'])['AQI'].mean().reset_index()
mean_aqi_per_country['year'] = pd.to_datetime(mean_aqi_per_country['year'], format='%Y')

# Create the Plotly figure
fig = px.line(mean_aqi_per_country, x='year', y='AQI', color='country',
              title='Average EU AQI per Year by Selected Country(s)')

# Convert to HTML
plot_html = fig.to_html(full_html=False)
